{
 "cells": [
  {
   "cell_type": "code",
   "execution_count": 2,
   "metadata": {},
   "outputs": [],
   "source": [
    "from typing import List,Tuple\n",
    "import json\n",
    "\n",
    "\n",
    "\n",
    "def addTeams(teams: str)-> bool:\n",
    "    teamList = teams.split('\\n')\n",
    "    for team in teamList:\n",
    "        teamStats = team.strip().split(\" \")\n",
    "        if len(teamStats) == 3:\n",
    "            team = json.dumps({'teamName':teamStats[0],'RegistrationDate':teamStats[1],'GroupNumber': int(teamStats[2]),'Score': 0,'GamesPlayed':0,'Wins':0,'Draw':0,'Loss':0,'GoalsScored':0,'GoalsAgainst':0})\n",
    "        else:\n",
    "            print(\"Error, too many attributes listed\")\n",
    "            return False\n",
    "    return True\n",
    "\n",
    "\n",
    "def addResults(scores: str)-> bool:\n",
    "    scoreList = scores.split('\\n')\n",
    "    for score in scoreList:\n",
    "        scoreStats = score.strip().split(\" \")\n",
    "        assert len(scoreStats) == 4, \"Too Many attributes\"\n",
    "        winner = scoreStats[0] if scoreStats[2] > scoreStats[3] else scoreStats[1]\n",
    "        score = json.dumps({'firstTeamName':scoreStats[0],'secondTeamName':scoreStats[1],'firstTeamScore': int(scoreStats[2]),'secondTeamScore': int(scoreStats[3]), 'winner': winner})\n",
    "        print(score)"
   ]
  },
  {
   "cell_type": "code",
   "execution_count": 6,
   "metadata": {},
   "outputs": [
    {
     "data": {
      "text/plain": [
       "True"
      ]
     },
     "execution_count": 6,
     "metadata": {},
     "output_type": "execute_result"
    }
   ],
   "source": [
    "addTeams('firstTeam 17/05 3 \\n secondTeam 16/2 1')"
   ]
  },
  {
   "cell_type": "code",
   "execution_count": 7,
   "metadata": {},
   "outputs": [
    {
     "name": "stdout",
     "output_type": "stream",
     "text": [
      "{\"firstTeamName\": \"first\", \"secondTeamName\": \"second\", \"firstTeamScore\": 1, \"secondTeamScore\": 0, \"winner\": \"first\"}\n"
     ]
    }
   ],
   "source": [
    "addResults(\"first second 1 0\")"
   ]
  },
  {
   "cell_type": "code",
   "execution_count": 1,
   "metadata": {},
   "outputs": [],
   "source": [
    "import pandas as pd"
   ]
  },
  {
   "cell_type": "code",
   "execution_count": 4,
   "metadata": {},
   "outputs": [],
   "source": [
    "# Sorting function for \n",
    "def sortTeams(df: pd.DataFrame)-> List[dict]:\n",
    "    df = df.sort_values(by=['Score','GoalsScored'])\n",
    "    for x in range(1,len(df)):\n",
    "        # Checking if the scores are the same\n",
    "        if df[x-1]['Score'] == df[x]['Score']:\n",
    "            sortedList = compareScore(df[x-1],df[x])\n",
    "            df[x-1] = sortedList[0]\n",
    "            df[x] = sortedList[1]\n",
    "    return df\n",
    "\n",
    "\n",
    "def compareScore(team1: dict, team2: dict)-> Tuple[dict,dict]:\n",
    "    team1Score = team1['Wins']*5 + team1['Draw']*3 + team1['Loss']\n",
    "    team2Score = team2['Wins']*5 + team2['Draw']*3 + team2['Loss']\n",
    "    if team1Score > team2Score:\n",
    "        return (team1,team2)\n",
    "    elif team2Score > team1Score:\n",
    "        return (team2,team1)\n",
    "    else:\n",
    "        ## To edit based on registration dateTime format.\n",
    "        if team1['RegistrationDate'] < team2['RegistrationDate']:\n",
    "            return (team1,team2)\n",
    "        else:\n",
    "            return (team2,team1)"
   ]
  },
  {
   "cell_type": "code",
   "execution_count": 17,
   "metadata": {},
   "outputs": [],
   "source": [
    "import pandas as pd\n",
    "data =pd.DataFrame([[1,2],[3,4]])\n",
    "data2 = pd.DataFrame([pd.Series([5,6]),pd.Series([7,8])])"
   ]
  },
  {
   "cell_type": "code",
   "execution_count": 18,
   "metadata": {},
   "outputs": [],
   "source": [
    "data = pd.concat([data,data2])"
   ]
  },
  {
   "cell_type": "code",
   "execution_count": 23,
   "metadata": {},
   "outputs": [
    {
     "name": "stderr",
     "output_type": "stream",
     "text": [
      "<>:2: SyntaxWarning: invalid escape sequence '\\d'\n",
      "<>:2: SyntaxWarning: invalid escape sequence '\\d'\n",
      "C:\\Users\\kwayy\\AppData\\Local\\Temp\\ipykernel_11676\\2395191272.py:2: SyntaxWarning: invalid escape sequence '\\d'\n",
      "  pattern = \"^(0[1-9]|[1-2]\\d|3[0-1])\\/(0[1-9]|1[0-2])$\"\n"
     ]
    }
   ],
   "source": [
    "import re\n",
    "pattern = \"^(0[1-9]|[1-2]\\d|3[0-1])\\/(0[1-9]|1[0-2])$\"\n",
    "test = re.match(pattern,\"31/00\")"
   ]
  },
  {
   "cell_type": "code",
   "execution_count": 25,
   "metadata": {},
   "outputs": [
    {
     "data": {
      "text/plain": [
       "NoneType"
      ]
     },
     "execution_count": 25,
     "metadata": {},
     "output_type": "execute_result"
    }
   ],
   "source": [
    "type(test)"
   ]
  },
  {
   "cell_type": "code",
   "execution_count": null,
   "metadata": {},
   "outputs": [],
   "source": []
  }
 ],
 "metadata": {
  "kernelspec": {
   "display_name": ".env",
   "language": "python",
   "name": "python3"
  },
  "language_info": {
   "codemirror_mode": {
    "name": "ipython",
    "version": 3
   },
   "file_extension": ".py",
   "mimetype": "text/x-python",
   "name": "python",
   "nbconvert_exporter": "python",
   "pygments_lexer": "ipython3",
   "version": "3.12.5"
  }
 },
 "nbformat": 4,
 "nbformat_minor": 2
}
