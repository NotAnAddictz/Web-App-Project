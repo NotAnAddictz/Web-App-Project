{
 "cells": [
  {
   "cell_type": "code",
   "execution_count": 3,
   "metadata": {},
   "outputs": [],
   "source": [
    "from typing import List,Tuple\n",
    "import json\n",
    "\n",
    "\n",
    "\n",
    "def addTeams(teams: str)-> bool:\n",
    "    teamList = teams.split('\\n')\n",
    "    for team in teamList:\n",
    "        teamStats = team.strip().split(\" \")\n",
    "        if len(teamStats) == 3:\n",
    "            team = json.dumps({'teamName':teamStats[0],'RegistrationDate':teamStats[1],'GroupNumber': int(teamStats[2]),'Score': 0,'GamesPlayed':0,'Wins':0,'Draw':0,'Loss':0,'GoalsScored':0,'GoalsAgainst':0})\n",
    "        else:\n",
    "            print(\"Error, too many attributes listed\")\n",
    "            return False\n",
    "    return True\n",
    "\n",
    "\n",
    "def addResults(scores: str)-> bool:\n",
    "    scoreList = scores.split('\\n')\n",
    "    for score in scoreList:\n",
    "        scoreStats = score.strip().split(\" \")\n",
    "        assert len(scoreStats) == 4, \"Too Many attributes\"\n",
    "        winner = scoreStats[0] if scoreStats[2] > scoreStats[3] else scoreStats[1]\n",
    "        score = json.dumps({'firstTeamName':scoreStats[0],'secondTeamName':scoreStats[1],'firstTeamScore': int(scoreStats[2]),'secondTeamScore': int(scoreStats[3]), 'winner': winner})\n",
    "        print(score)"
   ]
  },
  {
   "cell_type": "code",
   "execution_count": 6,
   "metadata": {},
   "outputs": [
    {
     "data": {
      "text/plain": [
       "True"
      ]
     },
     "execution_count": 6,
     "metadata": {},
     "output_type": "execute_result"
    }
   ],
   "source": [
    "addTeams('firstTeam 17/05 3 \\n secondTeam 16/2 1')"
   ]
  },
  {
   "cell_type": "code",
   "execution_count": 7,
   "metadata": {},
   "outputs": [
    {
     "name": "stdout",
     "output_type": "stream",
     "text": [
      "{\"firstTeamName\": \"first\", \"secondTeamName\": \"second\", \"firstTeamScore\": 1, \"secondTeamScore\": 0, \"winner\": \"first\"}\n"
     ]
    }
   ],
   "source": [
    "addResults(\"first second 1 0\")"
   ]
  },
  {
   "cell_type": "code",
   "execution_count": 1,
   "metadata": {},
   "outputs": [],
   "source": [
    "import pandas as pd"
   ]
  },
  {
   "cell_type": "code",
   "execution_count": 4,
   "metadata": {},
   "outputs": [],
   "source": [
    "# Sorting function for \n",
    "def sortTeams(df: pd.DataFrame)-> List[dict]:\n",
    "    df = df.sort_values(by=['Score','GoalsScored'])\n",
    "    for x in range(1,len(df)):\n",
    "        # Checking if the scores are the same\n",
    "        if df[x-1]['Score'] == df[x]['Score']:\n",
    "            sortedList = compareScore(df[x-1],df[x])\n",
    "            df[x-1] = sortedList[0]\n",
    "            df[x] = sortedList[1]\n",
    "    return df\n",
    "\n",
    "\n",
    "def compareScore(team1: dict, team2: dict)-> Tuple[dict,dict]:\n",
    "    team1Score = team1['Wins']*5 + team1['Draw']*3 + team1['Loss']\n",
    "    team2Score = team2['Wins']*5 + team2['Draw']*3 + team2['Loss']\n",
    "    if team1Score > team2Score:\n",
    "        return (team1,team2)\n",
    "    elif team2Score > team1Score:\n",
    "        return (team2,team1)\n",
    "    else:\n",
    "        ## To edit based on registration dateTime format.\n",
    "        if team1['RegistrationDate'] < team2['RegistrationDate']:\n",
    "            return (team1,team2)\n",
    "        else:\n",
    "            return (team2,team1)"
   ]
  },
  {
   "cell_type": "code",
   "execution_count": 7,
   "metadata": {},
   "outputs": [
    {
     "ename": "ValueError",
     "evalue": "DataFrame constructor not properly called!",
     "output_type": "error",
     "traceback": [
      "\u001b[1;31m---------------------------------------------------------------------------\u001b[0m",
      "\u001b[1;31mValueError\u001b[0m                                Traceback (most recent call last)",
      "\u001b[1;32m~\\AppData\\Local\\Temp\\ipykernel_18820\\1910888790.py\u001b[0m in \u001b[0;36m?\u001b[1;34m()\u001b[0m\n\u001b[0;32m      5\u001b[0m \u001b[1;32mdef\u001b[0m \u001b[0mhighlight_rows\u001b[0m\u001b[1;33m(\u001b[0m\u001b[0mrow_data\u001b[0m\u001b[1;33m)\u001b[0m\u001b[1;33m:\u001b[0m\u001b[1;33m\u001b[0m\u001b[1;33m\u001b[0m\u001b[0m\n\u001b[0;32m      6\u001b[0m   \u001b[1;32mreturn\u001b[0m \u001b[1;33m[\u001b[0m\u001b[1;33mf\"\u001b[0m\u001b[1;33mbackground-color: green\u001b[0m\u001b[1;33m\"\u001b[0m \u001b[1;32mfor\u001b[0m \u001b[0m_\u001b[0m \u001b[1;32min\u001b[0m \u001b[0mrow_data\u001b[0m\u001b[1;33m]\u001b[0m\u001b[1;33m\u001b[0m\u001b[1;33m\u001b[0m\u001b[0m\n\u001b[0;32m      7\u001b[0m \u001b[1;33m\u001b[0m\u001b[0m\n\u001b[0;32m      8\u001b[0m \u001b[0mstyled_df\u001b[0m \u001b[1;33m=\u001b[0m \u001b[0mdf\u001b[0m\u001b[1;33m.\u001b[0m\u001b[0mstyle\u001b[0m\u001b[1;33m.\u001b[0m\u001b[0mapply\u001b[0m\u001b[1;33m(\u001b[0m\u001b[0mhighlight_rows\u001b[0m\u001b[1;33m,\u001b[0m \u001b[0msubset\u001b[0m\u001b[1;33m=\u001b[0m\u001b[0mdf\u001b[0m\u001b[1;33m.\u001b[0m\u001b[0miloc\u001b[0m\u001b[1;33m[\u001b[0m\u001b[1;33m:\u001b[0m\u001b[0mN\u001b[0m\u001b[1;33m,\u001b[0m \u001b[1;33m:\u001b[0m\u001b[1;33m]\u001b[0m\u001b[1;33m)\u001b[0m  \u001b[1;31m# Use iloc for indexing\u001b[0m\u001b[1;33m\u001b[0m\u001b[1;33m\u001b[0m\u001b[0m\n\u001b[1;32m----> 9\u001b[1;33m \u001b[0mpd\u001b[0m\u001b[1;33m.\u001b[0m\u001b[0mDataFrame\u001b[0m\u001b[1;33m(\u001b[0m\u001b[0mstyled_df\u001b[0m\u001b[1;33m)\u001b[0m\u001b[1;33m\u001b[0m\u001b[1;33m\u001b[0m\u001b[0m\n\u001b[0m",
      "\u001b[1;32mc:\\Users\\kwayy\\OneDrive\\Desktop\\Web-App-Project\\.env\\Lib\\site-packages\\pandas\\core\\frame.py\u001b[0m in \u001b[0;36m?\u001b[1;34m(self, data, index, columns, dtype, copy)\u001b[0m\n\u001b[0;32m    882\u001b[0m                 \u001b[1;33m)\u001b[0m\u001b[1;33m\u001b[0m\u001b[1;33m\u001b[0m\u001b[0m\n\u001b[0;32m    883\u001b[0m         \u001b[1;31m# For data is scalar\u001b[0m\u001b[1;33m\u001b[0m\u001b[1;33m\u001b[0m\u001b[0m\n\u001b[0;32m    884\u001b[0m         \u001b[1;32melse\u001b[0m\u001b[1;33m:\u001b[0m\u001b[1;33m\u001b[0m\u001b[1;33m\u001b[0m\u001b[0m\n\u001b[0;32m    885\u001b[0m             \u001b[1;32mif\u001b[0m \u001b[0mindex\u001b[0m \u001b[1;32mis\u001b[0m \u001b[1;32mNone\u001b[0m \u001b[1;32mor\u001b[0m \u001b[0mcolumns\u001b[0m \u001b[1;32mis\u001b[0m \u001b[1;32mNone\u001b[0m\u001b[1;33m:\u001b[0m\u001b[1;33m\u001b[0m\u001b[1;33m\u001b[0m\u001b[0m\n\u001b[1;32m--> 886\u001b[1;33m                 \u001b[1;32mraise\u001b[0m \u001b[0mValueError\u001b[0m\u001b[1;33m(\u001b[0m\u001b[1;34m\"DataFrame constructor not properly called!\"\u001b[0m\u001b[1;33m)\u001b[0m\u001b[1;33m\u001b[0m\u001b[1;33m\u001b[0m\u001b[0m\n\u001b[0m\u001b[0;32m    887\u001b[0m \u001b[1;33m\u001b[0m\u001b[0m\n\u001b[0;32m    888\u001b[0m             \u001b[0mindex\u001b[0m \u001b[1;33m=\u001b[0m \u001b[0mensure_index\u001b[0m\u001b[1;33m(\u001b[0m\u001b[0mindex\u001b[0m\u001b[1;33m)\u001b[0m\u001b[1;33m\u001b[0m\u001b[1;33m\u001b[0m\u001b[0m\n\u001b[0;32m    889\u001b[0m             \u001b[0mcolumns\u001b[0m \u001b[1;33m=\u001b[0m \u001b[0mensure_index\u001b[0m\u001b[1;33m(\u001b[0m\u001b[0mcolumns\u001b[0m\u001b[1;33m)\u001b[0m\u001b[1;33m\u001b[0m\u001b[1;33m\u001b[0m\u001b[0m\n",
      "\u001b[1;31mValueError\u001b[0m: DataFrame constructor not properly called!"
     ]
    }
   ],
   "source": [
    "# Create a DataFrame\n",
    "data = {'A': [1, 2, 3, 4], 'B': ['a', 'b', 'c', 'd']}\n",
    "df = pd.DataFrame(data)\n",
    "N=3\n",
    "def highlight_rows(row_data):\n",
    "  return [f\"background-color: green\" for _ in row_data]\n",
    "\n",
    "styled_df = df.style.apply(highlight_rows, subset=df.iloc[:N, :])  # Use iloc for indexing\n",
    "pd.DataFrame(styled_df)"
   ]
  },
  {
   "cell_type": "code",
   "execution_count": null,
   "metadata": {},
   "outputs": [],
   "source": []
  }
 ],
 "metadata": {
  "kernelspec": {
   "display_name": ".env",
   "language": "python",
   "name": "python3"
  },
  "language_info": {
   "codemirror_mode": {
    "name": "ipython",
    "version": 3
   },
   "file_extension": ".py",
   "mimetype": "text/x-python",
   "name": "python",
   "nbconvert_exporter": "python",
   "pygments_lexer": "ipython3",
   "version": "3.12.5"
  }
 },
 "nbformat": 4,
 "nbformat_minor": 2
}
