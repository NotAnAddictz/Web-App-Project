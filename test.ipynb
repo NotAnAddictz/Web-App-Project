{
 "cells": [
  {
   "cell_type": "code",
   "execution_count": 6,
   "metadata": {},
   "outputs": [],
   "source": [
    "from typing import List\n",
    "import json\n",
    "\n",
    "\n",
    "def addTeams(teams: str)-> bool:\n",
    "    teamList = teams.split('\\n')\n",
    "    for team in teamList:\n",
    "        teamStats = team.strip().split(\" \")\n",
    "        if len(teamStats) == 3:\n",
    "            team = json.dumps({'name':teamStats[0],'registrationDate':teamStats[1],'groupNumber': int(teamStats[2])})\n",
    "        else:\n",
    "            print(\"Error, too many attributes listed\")\n",
    "            return False\n",
    "    return True\n",
    "def addResults(scores: str)-> bool:\n",
    "    scoreList = scores.split('\\n')\n",
    "    for score in scoreList:\n",
    "        scoreStats = score.strip().split(\" \")\n",
    "        assert len(scoreStats) == 4, \"Too Many attributes\"\n",
    "        winner = scoreStats[0] if scoreStats[2] > scoreStats[3] else scoreStats[1]\n",
    "        score = json.dumps({'firstTeamName':scoreStats[0],'secondTeamName':scoreStats[1],'firstTeamScore': int(scoreStats[2]),'secondTeamScore': int(scoreStats[3]), 'winner': winner})\n",
    "        print(score)"
   ]
  },
  {
   "cell_type": "code",
   "execution_count": 7,
   "metadata": {},
   "outputs": [
    {
     "data": {
      "text/plain": [
       "True"
      ]
     },
     "execution_count": 7,
     "metadata": {},
     "output_type": "execute_result"
    }
   ],
   "source": [
    "addTeams('firstTeam 17/05 3 \\n secondTeam 16/2 1')"
   ]
  },
  {
   "cell_type": "code",
   "execution_count": 8,
   "metadata": {},
   "outputs": [
    {
     "name": "stdout",
     "output_type": "stream",
     "text": [
      "{\"firstTeamName\": \"first\", \"secondTeamName\": \"second\", \"firstTeamScore\": 1, \"secondTeamScore\": 0, \"winner\": \"first\"}\n"
     ]
    }
   ],
   "source": [
    "addResults(\"first second 1 0\")"
   ]
  },
  {
   "cell_type": "code",
   "execution_count": null,
   "metadata": {},
   "outputs": [],
   "source": []
  }
 ],
 "metadata": {
  "kernelspec": {
   "display_name": ".env",
   "language": "python",
   "name": "python3"
  },
  "language_info": {
   "codemirror_mode": {
    "name": "ipython",
    "version": 3
   },
   "file_extension": ".py",
   "mimetype": "text/x-python",
   "name": "python",
   "nbconvert_exporter": "python",
   "pygments_lexer": "ipython3",
   "version": "3.12.5"
  }
 },
 "nbformat": 4,
 "nbformat_minor": 2
}
